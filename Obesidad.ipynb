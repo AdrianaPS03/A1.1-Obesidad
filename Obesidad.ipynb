{
 "cells": [
  {
   "cell_type": "markdown",
   "id": "4c0f1229-c00e-432f-ad37-27b9dea32a99",
   "metadata": {},
   "source": [
    "# **Aprendizaje estadístico-automático**"
   ]
  },
  {
   "cell_type": "markdown",
   "id": "16685f36-d369-4e0a-b9b7-9501dac49822",
   "metadata": {},
   "source": [
    "### **Base de datos:** Obesidad.csv"
   ]
  },
  {
   "cell_type": "markdown",
   "id": "a618d5a6-0d74-45b6-a7c5-73e0794f66f5",
   "metadata": {},
   "source": [
    "*¿Qué información te interesaría revisar si formaran parte del equipo de investigación? ¿Qué \n",
    "información te hubiera gustado recopilar y que actualmente no se encuentra en el estudio*\r"
   ]
  },
  {
   "cell_type": "markdown",
   "id": "57f1df23-ebe5-4bb2-a73c-8fcde0dddd7f",
   "metadata": {},
   "source": [
    "Me hubiera gustado registrar el país del que es cada individuo, además de también si hacen ejercicio o si están bajo una dieta especifica, y si es así cuánto tiemopo la han mantenido hasta la fecha, además me gustaría más saber cuántas calorias come al día/semana/mes aproximadamente en lugar de registrar solo si come muchas calorias o no, de forma similar me gustaría que se hiciera lo mismo con el consumo de agua."
   ]
  },
  {
   "cell_type": "markdown",
   "id": "a2d419f3-b1f5-47fa-bb79-18b18bffd894",
   "metadata": {},
   "source": [
    "1. Importa los datos del archivo “Obesidad.csv” a tu ambiente de trabajo en una JupyterNotebook y muestra en consola un resumen, imprimiendo las primeras 10 filas de datos."
   ]
  },
  {
   "cell_type": "code",
   "execution_count": 26,
   "id": "e055c9a7-153d-402a-8ce6-d139bdafebde",
   "metadata": {},
   "outputs": [
    {
     "data": {
      "text/html": [
       "<div>\n",
       "<style scoped>\n",
       "    .dataframe tbody tr th:only-of-type {\n",
       "        vertical-align: middle;\n",
       "    }\n",
       "\n",
       "    .dataframe tbody tr th {\n",
       "        vertical-align: top;\n",
       "    }\n",
       "\n",
       "    .dataframe thead th {\n",
       "        text-align: right;\n",
       "    }\n",
       "</style>\n",
       "<table border=\"1\" class=\"dataframe\">\n",
       "  <thead>\n",
       "    <tr style=\"text-align: right;\">\n",
       "      <th></th>\n",
       "      <th>Sexo</th>\n",
       "      <th>Edad</th>\n",
       "      <th>Estatura</th>\n",
       "      <th>Peso</th>\n",
       "      <th>FamiliarConSobrepeso</th>\n",
       "      <th>ComeMuchasCalorias</th>\n",
       "      <th>ComeVegetales</th>\n",
       "      <th>Fumador</th>\n",
       "      <th>ConsumoDeAgua</th>\n",
       "      <th>NivelDeObesidad</th>\n",
       "    </tr>\n",
       "  </thead>\n",
       "  <tbody>\n",
       "    <tr>\n",
       "      <th>0</th>\n",
       "      <td>Female</td>\n",
       "      <td>21.0</td>\n",
       "      <td>1.62</td>\n",
       "      <td>64.0</td>\n",
       "      <td>yes</td>\n",
       "      <td>no</td>\n",
       "      <td>2.0</td>\n",
       "      <td>no</td>\n",
       "      <td>2.0</td>\n",
       "      <td>Normal_Weight</td>\n",
       "    </tr>\n",
       "    <tr>\n",
       "      <th>1</th>\n",
       "      <td>Female</td>\n",
       "      <td>21.0</td>\n",
       "      <td>1.52</td>\n",
       "      <td>56.0</td>\n",
       "      <td>yes</td>\n",
       "      <td>no</td>\n",
       "      <td>3.0</td>\n",
       "      <td>yes</td>\n",
       "      <td>3.0</td>\n",
       "      <td>Normal_Weight</td>\n",
       "    </tr>\n",
       "    <tr>\n",
       "      <th>2</th>\n",
       "      <td>Male</td>\n",
       "      <td>23.0</td>\n",
       "      <td>1.80</td>\n",
       "      <td>77.0</td>\n",
       "      <td>yes</td>\n",
       "      <td>no</td>\n",
       "      <td>2.0</td>\n",
       "      <td>no</td>\n",
       "      <td>2.0</td>\n",
       "      <td>Normal_Weight</td>\n",
       "    </tr>\n",
       "    <tr>\n",
       "      <th>3</th>\n",
       "      <td>Male</td>\n",
       "      <td>27.0</td>\n",
       "      <td>1.80</td>\n",
       "      <td>87.0</td>\n",
       "      <td>no</td>\n",
       "      <td>no</td>\n",
       "      <td>3.0</td>\n",
       "      <td>no</td>\n",
       "      <td>2.0</td>\n",
       "      <td>Overweight_Level_I</td>\n",
       "    </tr>\n",
       "    <tr>\n",
       "      <th>4</th>\n",
       "      <td>Male</td>\n",
       "      <td>22.0</td>\n",
       "      <td>1.78</td>\n",
       "      <td>89.8</td>\n",
       "      <td>no</td>\n",
       "      <td>no</td>\n",
       "      <td>2.0</td>\n",
       "      <td>no</td>\n",
       "      <td>2.0</td>\n",
       "      <td>Overweight_Level_II</td>\n",
       "    </tr>\n",
       "    <tr>\n",
       "      <th>5</th>\n",
       "      <td>Male</td>\n",
       "      <td>29.0</td>\n",
       "      <td>1.62</td>\n",
       "      <td>53.0</td>\n",
       "      <td>no</td>\n",
       "      <td>yes</td>\n",
       "      <td>2.0</td>\n",
       "      <td>no</td>\n",
       "      <td>2.0</td>\n",
       "      <td>Normal_Weight</td>\n",
       "    </tr>\n",
       "    <tr>\n",
       "      <th>6</th>\n",
       "      <td>Female</td>\n",
       "      <td>23.0</td>\n",
       "      <td>1.50</td>\n",
       "      <td>55.0</td>\n",
       "      <td>yes</td>\n",
       "      <td>yes</td>\n",
       "      <td>3.0</td>\n",
       "      <td>no</td>\n",
       "      <td>2.0</td>\n",
       "      <td>Normal_Weight</td>\n",
       "    </tr>\n",
       "    <tr>\n",
       "      <th>7</th>\n",
       "      <td>Male</td>\n",
       "      <td>22.0</td>\n",
       "      <td>1.64</td>\n",
       "      <td>53.0</td>\n",
       "      <td>no</td>\n",
       "      <td>no</td>\n",
       "      <td>2.0</td>\n",
       "      <td>no</td>\n",
       "      <td>2.0</td>\n",
       "      <td>Normal_Weight</td>\n",
       "    </tr>\n",
       "    <tr>\n",
       "      <th>8</th>\n",
       "      <td>Male</td>\n",
       "      <td>24.0</td>\n",
       "      <td>1.78</td>\n",
       "      <td>64.0</td>\n",
       "      <td>yes</td>\n",
       "      <td>yes</td>\n",
       "      <td>3.0</td>\n",
       "      <td>no</td>\n",
       "      <td>2.0</td>\n",
       "      <td>Normal_Weight</td>\n",
       "    </tr>\n",
       "    <tr>\n",
       "      <th>9</th>\n",
       "      <td>Male</td>\n",
       "      <td>22.0</td>\n",
       "      <td>1.72</td>\n",
       "      <td>68.0</td>\n",
       "      <td>yes</td>\n",
       "      <td>yes</td>\n",
       "      <td>2.0</td>\n",
       "      <td>no</td>\n",
       "      <td>2.0</td>\n",
       "      <td>Normal_Weight</td>\n",
       "    </tr>\n",
       "  </tbody>\n",
       "</table>\n",
       "</div>"
      ],
      "text/plain": [
       "     Sexo  Edad  Estatura  Peso FamiliarConSobrepeso ComeMuchasCalorias  \\\n",
       "0  Female  21.0      1.62  64.0                  yes                 no   \n",
       "1  Female  21.0      1.52  56.0                  yes                 no   \n",
       "2    Male  23.0      1.80  77.0                  yes                 no   \n",
       "3    Male  27.0      1.80  87.0                   no                 no   \n",
       "4    Male  22.0      1.78  89.8                   no                 no   \n",
       "5    Male  29.0      1.62  53.0                   no                yes   \n",
       "6  Female  23.0      1.50  55.0                  yes                yes   \n",
       "7    Male  22.0      1.64  53.0                   no                 no   \n",
       "8    Male  24.0      1.78  64.0                  yes                yes   \n",
       "9    Male  22.0      1.72  68.0                  yes                yes   \n",
       "\n",
       "   ComeVegetales Fumador  ConsumoDeAgua      NivelDeObesidad  \n",
       "0            2.0      no            2.0        Normal_Weight  \n",
       "1            3.0     yes            3.0        Normal_Weight  \n",
       "2            2.0      no            2.0        Normal_Weight  \n",
       "3            3.0      no            2.0   Overweight_Level_I  \n",
       "4            2.0      no            2.0  Overweight_Level_II  \n",
       "5            2.0      no            2.0        Normal_Weight  \n",
       "6            3.0      no            2.0        Normal_Weight  \n",
       "7            2.0      no            2.0        Normal_Weight  \n",
       "8            3.0      no            2.0        Normal_Weight  \n",
       "9            2.0      no            2.0        Normal_Weight  "
      ]
     },
     "execution_count": 26,
     "metadata": {},
     "output_type": "execute_result"
    }
   ],
   "source": [
    "#Importar librerias\n",
    "import pandas as pd\n",
    "import matplotlib.pyplot as plt\n",
    "#Leer CSV\n",
    "df = pd.read_csv('Obesidad.csv')\n",
    "df.head(10)"
   ]
  },
  {
   "cell_type": "markdown",
   "id": "918d93d1-53c2-4fe5-bbe5-f27e99c99b56",
   "metadata": {},
   "source": [
    "2. Imprime en consola o genera un cuadro de descripción que muestre un mensaje donde \n",
    "indiques qué otra variable hubieras decidido medir si formaras parte del grupo d \r\n",
    "investigación, indicando claramente si la información recopilada se consideraría co o\r\n",
    "cuantitativa o cualitativa."
   ]
  },
  {
   "cell_type": "code",
   "execution_count": 16,
   "id": "c4944b21-62ba-4a89-b23d-d44dd7eda71b",
   "metadata": {},
   "outputs": [
    {
     "name": "stdout",
     "output_type": "stream",
     "text": [
      "Para esta investigación habría considerado también el número o la cantidad aporximada de calorias que los individuos consumen aunque sea en un promedio o un aproximado por día.\n"
     ]
    }
   ],
   "source": [
    "print(\"Para esta investigación habría considerado también el número o la cantidad aporximada de calorias que los individuos consumen aunque sea en un promedio o un aproximado por día.\")"
   ]
  },
  {
   "cell_type": "markdown",
   "id": "113c68b9-26f9-48b6-a7c0-fb0d145f6cdd",
   "metadata": {},
   "source": [
    "3. Si tú fueras el líder del proyecto y quisieras realizar un estudio de inferencia, ¿qué variable \n",
    "de la base de datos definirías como la salida o respuesta? Aquella variable para la que t \r\n",
    "interesa encontrar asociaciones específicas. Imprime el promedio de dicha variable, si  s\r\n",
    "cuantitativa, o la cantidad de personas que pertenecen a cada categoría, si es cualitativa."
   ]
  },
  {
   "cell_type": "code",
   "execution_count": 19,
   "id": "a224ab51-f420-40eb-a06f-19d7a26ef8c6",
   "metadata": {},
   "outputs": [
    {
     "data": {
      "text/plain": [
       "NivelDeObesidad\n",
       "Obesity_Type_I         351\n",
       "Obesity_Type_III       324\n",
       "Obesity_Type_II        297\n",
       "Overweight_Level_I     290\n",
       "Overweight_Level_II    290\n",
       "Normal_Weight          287\n",
       "Insufficient_Weight    272\n",
       "Name: count, dtype: int64"
      ]
     },
     "execution_count": 19,
     "metadata": {},
     "output_type": "execute_result"
    }
   ],
   "source": [
    "df['NivelDeObesidad'].value_counts()"
   ]
  },
  {
   "cell_type": "markdown",
   "id": "53ae53c7-9af3-4157-86e0-63beb49cb362",
   "metadata": {},
   "source": [
    "Lo que deseamos saber cómo ocurre o cómo se explica debería ser el Nivel de Obesidad en los individuos,  ya que este es en gran medida el objetivo de recopilar estos datos en primer lugar."
   ]
  },
  {
   "cell_type": "markdown",
   "id": "bbacc1ea-d6a4-43b0-976f-a4336dd46d3e",
   "metadata": {},
   "source": [
    "4. Genera una gráfica, exclusivamente para la población masculina o femenina (cada quién \n",
    "decidirá su población de interés), que muestre en el eje “Y” la variable de salida (d \r\n",
    "acuerdo a lo que definiste en el punto anterior), y en el eje “X” alguna variable cuantitati a\r\n",
    "que les llame la atencibook."
   ]
  },
  {
   "cell_type": "code",
   "execution_count": 50,
   "id": "e132d34e-2a96-45b9-9eba-950213871adf",
   "metadata": {},
   "outputs": [
    {
     "data": {
      "text/plain": [
       "<matplotlib.collections.PathCollection at 0x1eb15f7f260>"
      ]
     },
     "execution_count": 50,
     "metadata": {},
     "output_type": "execute_result"
    },
    {
     "data": {
      "image/png": "[encoded data removed]",
      "text/plain": [
       "<Figure size 640x480 with 1 Axes>"
      ]
     },
     "metadata": {},
     "output_type": "display_data"
    }
   ],
   "source": [
    "dfny = df[['Peso', 'NivelDeObesidad']][df['Sexo'] == 'Female']\n",
    "plt.scatter(dfny['Peso'], dfny['NivelDeObesidad'], alpha=0.1)"
   ]
  },
  {
   "cell_type": "markdown",
   "id": "a8d6fbd3-0680-4cd8-a120-0d6fbadf03ac",
   "metadata": {},
   "source": [
    "Con la gráfica anterior se puede observar que las mujeres casi no presentan Obesidad Tipo II, y presentan mayormente Obesidad Tipo III o un peso normal."
   ]
  },
  {
   "cell_type": "markdown",
   "id": "1524802b-43be-46be-b851-e24c856a6294",
   "metadata": {},
   "source": [
    "*\"Doy mi palabra de que he realizado esta actividad con integirdad académica\"*"
   ]
  }
 ],
 "metadata": {
  "kernelspec": {
   "display_name": "Python 3 (ipykernel)",
   "language": "python",
   "name": "python3"
  },
  "language_info": {
   "codemirror_mode": {
    "name": "ipython",
    "version": 3
   },
   "file_extension": ".py",
   "mimetype": "text/x-python",
   "name": "python",
   "nbconvert_exporter": "python",
   "pygments_lexer": "ipython3",
   "version": "3.12.3"
  }
 },
 "nbformat": 4,
 "nbformat_minor": 5
}
